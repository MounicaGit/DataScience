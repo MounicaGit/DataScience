{
  "metadata": {
    "language_info": {
      "codemirror_mode": {
        "name": "python",
        "version": 3
      },
      "file_extension": ".py",
      "mimetype": "text/x-python",
      "name": "python",
      "nbconvert_exporter": "python",
      "pygments_lexer": "ipython3",
      "version": "3.8"
    },
    "kernelspec": {
      "name": "python",
      "display_name": "Pyolite",
      "language": "python"
    },
    "toc-autonumbering": false,
    "toc-showmarkdowntxt": true
  },
  "nbformat_minor": 4,
  "nbformat": 4,
  "cells": [
    {
      "cell_type": "markdown",
      "source": "<h1>My Jupyter Notebook on IBM Watson Studio</h1>",
      "metadata": {}
    },
    {
      "cell_type": "markdown",
      "source": "<h4>Mounica</h4>\n<p>Software Developer</p>",
      "metadata": {}
    },
    {
      "cell_type": "markdown",
      "source": "<i>I'm very much interested in learning data science and work on it because data science is going to be future and also have lots of scope. I also eager to explore my skills in new technology.</i>",
      "metadata": {}
    },
    {
      "cell_type": "markdown",
      "source": "<h3>str is a variable contains 'Skills Notebook' text, where 'Skills' will be replaced with 'Jupyter' and output will be  <b>Jupyter Notebook</b></h3>",
      "metadata": {}
    },
    {
      "cell_type": "code",
      "source": "str = 'Skills Notebook'\nstr = str.replace('Skills', 'Jupyter')\nstr",
      "metadata": {},
      "execution_count": null,
      "outputs": [
        {
          "execution_count": 6,
          "output_type": "execute_result",
          "data": {
            "text/plain": "'Jupyter Notebook'"
          },
          "metadata": {}
        }
      ]
    },
    {
      "cell_type": "markdown",
      "source": "<ul><li>int</li><li>float</li><li>bool</li></ul>\n<hr>\n<ol><li>int</li><li>float</li><li>bool</li></ol>\n<hr>\n<table><tr><th>Datatypes</th></tr><tr><td>int</td></tr><tr><td>float</td></tr><tr><td>bool</td></tr></table>",
      "metadata": {}
    }
  ]
}